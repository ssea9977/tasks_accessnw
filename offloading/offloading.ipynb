{
 "cells": [
  {
   "cell_type": "code",
   "execution_count": null,
   "metadata": {},
   "outputs": [],
   "source": [
    "import pandas as pd\n",
    "import pymysql\n",
    "\n",
    "conn = None\n",
    "cur = None\n",
    "\n",
    "sql = \"\"\n",
    "\n",
    "conn = pymysql.connect(host='172.21.27.128', user='aison', password='Rkdqnrlte1q', db='Offloading1', charset='utf8')\n",
    "cur = conn.cursor()\n",
    "\n",
    "sql = \"LOAD DATA LOCAL INFILE '/home/aison/Offloading/Daily_Data/Daily_Data_1_1_'\" + yesterday + \"'.csv' INTO TABLE Offloading1.Daily_Offloading_1 character set utf8 FIELDS TERMINATED BY '\\t'\"\n",
    "result = pd.read_sql_query(sql,conn)\n",
    "info_lte = pd.DataFrame(result)\n",
    "\n"
   ]
  },
  {
   "cell_type": "code",
   "execution_count": null,
   "metadata": {},
   "outputs": [],
   "source": [
    "import pandas as pd\n",
    "import pymysql\n",
    "import os\n",
    "from datetime import datetime, timedelta\n",
    "\n",
    "base_date = datetime.today() - timedelta(2)\n",
    "yesterday = base_date.strftime(\"%Y%m%d\")\n",
    "check_date = base_date.strftime(\"%Y-%m-%d\")\n",
    "rm_date = datetime.today() - timedelta(3)\n",
    "rm_date = rm_date.strftime(\"%Y%m%d\")\n",
    "file_path = '/home/aison/Offloading/Daily_Data/Daily_Data_1_1_' + yesterday + '.csv'\n",
    "\n",
    "def data_preprocess():\n",
    "    raw_data = pd.read_excel('/home/aison/Offloading/Daily_Data/Daily_Data_1_1.xlsx', sheet_name='Daily_Data_1_1')\n",
    "    os.system('mv /home/aison/Offloading/Daily_Data/Daily_Data_1_1.xlsx /home/aison/Offloading/Daily_Data/Daily_Data_1_1_'+ yesterday + '.xlsx')\n",
    "    process_df = raw_data.drop(labels=range(0,2), axis=0)\n",
    "    process_df.to_csv(file_path, sep='\\t', encoding='utf-8', header=False, index=False)\n",
    "\n",
    "def insert_data():\n",
    "    conn = None\n",
    "    cur = None\n",
    "    sql = \"\"\n",
    "\n",
    "    conn = pymysql.connect(host='172.21.27.128', user='aison', password='Rkdqnrlte1q', db='Offloading1', charset='utf8')\n",
    "    cur = conn.cursor()\n",
    "    sql = \"LOAD DATA LOCAL INFILE \" + \"'\" + file_path + \"'\" + \" INTO TABLE Offloading1.Daily_Offloading_1 character set utf8 FIELDS TERMINATED BY '\\t'\"\n",
    "\n",
    "def data_check():\n",
    "    conn = None\n",
    "    cur = None\n",
    "    sql = \"\"\n",
    "\n",
    "    conn = pymysql.connect(host='172.21.27.128', user='aison', password='Rkdqnrlte1q', db='Offloading1', charset='utf8')\n",
    "    cur = conn.cursor()\n",
    "    sql = \"SELECT base_date FROM Daily_Offloading_1 ORDER BY base_date DESC LIMIT 1;\"\n",
    "    result = pd.read_sql_query(sql,conn)\n",
    "    offloading = pd.DataFrame(result)\n",
    "    data_date = str(offloading['base_date'])\n",
    "    \n",
    "    if data_date is not check_date:\n",
    "        insert_data()\n",
    "    else:\n",
    "        print(data_date + \" data has already existed.\")\n",
    "\n",
    "def rm_data():\n",
    "    os.system('rm -rf /home/aison/Offloading/Daily_Data/Daily_Data_1_1_'+ rm_date + '.xlsx')\n",
    "    os.system('rm -rf /home/aison/Offloading/Daily_Data/Daily_Data_1_1_'+ rm_date + '.csv')\n",
    "\n",
    "if __name__ == \"__main__\":\n",
    "    data_preprocess()\n",
    "    data_check()\n",
    "    #rm_data()\n"
   ]
  }
 ],
 "metadata": {
  "interpreter": {
   "hash": "78051eca7ba72043908230ca58aa1aeac11448852d44139a478093be284452ee"
  },
  "kernelspec": {
   "display_name": "Python 3.9.6 64-bit",
   "language": "python",
   "name": "python3"
  },
  "language_info": {
   "codemirror_mode": {
    "name": "ipython",
    "version": 3
   },
   "file_extension": ".py",
   "mimetype": "text/x-python",
   "name": "python",
   "nbconvert_exporter": "python",
   "pygments_lexer": "ipython3",
   "version": "3.9.6"
  },
  "orig_nbformat": 4
 },
 "nbformat": 4,
 "nbformat_minor": 2
}
